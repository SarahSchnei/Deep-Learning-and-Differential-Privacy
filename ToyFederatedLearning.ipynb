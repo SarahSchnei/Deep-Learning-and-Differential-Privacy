{
  "nbformat": 4,
  "nbformat_minor": 0,
  "metadata": {
    "colab": {
      "name": "ToyFederatedLearning.ipynb",
      "version": "0.3.2",
      "provenance": [],
      "collapsed_sections": [],
      "include_colab_link": true
    },
    "kernelspec": {
      "name": "python3",
      "display_name": "Python 3"
    }
  },
  "cells": [
    {
      "cell_type": "markdown",
      "metadata": {
        "id": "view-in-github",
        "colab_type": "text"
      },
      "source": [
        "<a href=\"https://colab.research.google.com/github/SarahSchnei/Deep-Learning-and-Differential-Privacy/blob/master/ToyFederatedLearning.ipynb\" target=\"_parent\"><img src=\"https://colab.research.google.com/assets/colab-badge.svg\" alt=\"Open In Colab\"/></a>"
      ]
    },
    {
      "cell_type": "markdown",
      "metadata": {
        "id": "Vzar04sXsIwp",
        "colab_type": "text"
      },
      "source": [
        "# Federated Learning using a dataset about toys"
      ]
    },
    {
      "cell_type": "markdown",
      "metadata": {
        "id": "O25VC7QHsTd5",
        "colab_type": "text"
      },
      "source": [
        "Federated Learning is the idea that one large global model can be trained and maintained by a group of smaller, more individualized models. An example of this is with a mobile phone's predictive text feature. Your mobile phone is continuously learning and updating it's predictive model as you interact with it, and it shares this updated model with the software engineers that built it. Everyone's updated models are aggregated into a single model and that model is distributed as a software update."
      ]
    },
    {
      "cell_type": "code",
      "metadata": {
        "id": "ZV8pqRB4r_1Y",
        "colab_type": "code",
        "colab": {}
      },
      "source": [
        "from torch import nn, optim\n",
        "import torch as th\n",
        "import syft as sy"
      ],
      "execution_count": 0,
      "outputs": []
    },
    {
      "cell_type": "code",
      "metadata": {
        "id": "-4IJJ-z83K4p",
        "colab_type": "code",
        "outputId": "f734e87a-9306-4956-aef3-036ce49f744d",
        "colab": {
          "base_uri": "https://localhost:8080/",
          "height": 785
        }
      },
      "source": [
        "##!pip install syft"
      ],
      "execution_count": 0,
      "outputs": [
        {
          "output_type": "stream",
          "text": [
            "Requirement already satisfied: syft in /usr/local/lib/python3.6/dist-packages (0.1.21a1)\n",
            "Requirement already satisfied: flask-socketio>=3.3.2 in /usr/local/lib/python3.6/dist-packages (from syft) (4.1.0)\n",
            "Requirement already satisfied: numpy>=1.14.0 in /usr/local/lib/python3.6/dist-packages (from syft) (1.16.4)\n",
            "Requirement already satisfied: torch>=1.1 in /usr/local/lib/python3.6/dist-packages (from syft) (1.1.0)\n",
            "Requirement already satisfied: msgpack>=0.6.1 in /usr/local/lib/python3.6/dist-packages (from syft) (0.6.1)\n",
            "Requirement already satisfied: websocket-client>=0.56.0 in /usr/local/lib/python3.6/dist-packages (from syft) (0.56.0)\n",
            "Requirement already satisfied: lz4>=2.1.6 in /usr/local/lib/python3.6/dist-packages (from syft) (2.1.10)\n",
            "Requirement already satisfied: tf-encrypted>=0.5.4 in /usr/local/lib/python3.6/dist-packages (from syft) (0.5.6)\n",
            "Requirement already satisfied: torchvision>=0.3.0 in /usr/local/lib/python3.6/dist-packages (from syft) (0.3.0)\n",
            "Requirement already satisfied: websockets>=7.0 in /usr/local/lib/python3.6/dist-packages (from syft) (8.0)\n",
            "Requirement already satisfied: tblib>=1.4.0 in /usr/local/lib/python3.6/dist-packages (from syft) (1.4.0)\n",
            "Requirement already satisfied: Flask>=1.0.2 in /usr/local/lib/python3.6/dist-packages (from syft) (1.1.1)\n",
            "Requirement already satisfied: scikit-learn>=0.21.0 in /usr/local/lib/python3.6/dist-packages (from syft) (0.21.2)\n",
            "Requirement already satisfied: zstd>=1.4.0.0 in /usr/local/lib/python3.6/dist-packages (from syft) (1.4.0.0)\n",
            "Requirement already satisfied: python-socketio>=2.1.0 in /usr/local/lib/python3.6/dist-packages (from flask-socketio>=3.3.2->syft) (4.2.0)\n",
            "Requirement already satisfied: six in /usr/local/lib/python3.6/dist-packages (from websocket-client>=0.56.0->syft) (1.12.0)\n",
            "Requirement already satisfied: tensorflow<2,>=1.12.0 in /usr/local/lib/python3.6/dist-packages (from tf-encrypted>=0.5.4->syft) (1.14.0)\n",
            "Requirement already satisfied: pyyaml>=5.1 in /usr/local/lib/python3.6/dist-packages (from tf-encrypted>=0.5.4->syft) (5.1.1)\n",
            "Requirement already satisfied: pillow>=4.1.1 in /usr/local/lib/python3.6/dist-packages (from torchvision>=0.3.0->syft) (4.3.0)\n",
            "Requirement already satisfied: Werkzeug>=0.15 in /usr/local/lib/python3.6/dist-packages (from Flask>=1.0.2->syft) (0.15.4)\n",
            "Requirement already satisfied: click>=5.1 in /usr/local/lib/python3.6/dist-packages (from Flask>=1.0.2->syft) (7.0)\n",
            "Requirement already satisfied: itsdangerous>=0.24 in /usr/local/lib/python3.6/dist-packages (from Flask>=1.0.2->syft) (1.1.0)\n",
            "Requirement already satisfied: Jinja2>=2.10.1 in /usr/local/lib/python3.6/dist-packages (from Flask>=1.0.2->syft) (2.10.1)\n",
            "Requirement already satisfied: scipy>=0.17.0 in /usr/local/lib/python3.6/dist-packages (from scikit-learn>=0.21.0->syft) (1.3.0)\n",
            "Requirement already satisfied: joblib>=0.11 in /usr/local/lib/python3.6/dist-packages (from scikit-learn>=0.21.0->syft) (0.13.2)\n",
            "Requirement already satisfied: python-engineio>=3.8.0 in /usr/local/lib/python3.6/dist-packages (from python-socketio>=2.1.0->flask-socketio>=3.3.2->syft) (3.8.2.post1)\n",
            "Requirement already satisfied: keras-applications>=1.0.6 in /usr/local/lib/python3.6/dist-packages (from tensorflow<2,>=1.12.0->tf-encrypted>=0.5.4->syft) (1.0.8)\n",
            "Requirement already satisfied: google-pasta>=0.1.6 in /usr/local/lib/python3.6/dist-packages (from tensorflow<2,>=1.12.0->tf-encrypted>=0.5.4->syft) (0.1.7)\n",
            "Requirement already satisfied: keras-preprocessing>=1.0.5 in /usr/local/lib/python3.6/dist-packages (from tensorflow<2,>=1.12.0->tf-encrypted>=0.5.4->syft) (1.1.0)\n",
            "Requirement already satisfied: tensorboard<1.15.0,>=1.14.0 in /usr/local/lib/python3.6/dist-packages (from tensorflow<2,>=1.12.0->tf-encrypted>=0.5.4->syft) (1.14.0)\n",
            "Requirement already satisfied: termcolor>=1.1.0 in /usr/local/lib/python3.6/dist-packages (from tensorflow<2,>=1.12.0->tf-encrypted>=0.5.4->syft) (1.1.0)\n",
            "Requirement already satisfied: protobuf>=3.6.1 in /usr/local/lib/python3.6/dist-packages (from tensorflow<2,>=1.12.0->tf-encrypted>=0.5.4->syft) (3.7.1)\n",
            "Requirement already satisfied: tensorflow-estimator<1.15.0rc0,>=1.14.0rc0 in /usr/local/lib/python3.6/dist-packages (from tensorflow<2,>=1.12.0->tf-encrypted>=0.5.4->syft) (1.14.0)\n",
            "Requirement already satisfied: grpcio>=1.8.6 in /usr/local/lib/python3.6/dist-packages (from tensorflow<2,>=1.12.0->tf-encrypted>=0.5.4->syft) (1.15.0)\n",
            "Requirement already satisfied: absl-py>=0.7.0 in /usr/local/lib/python3.6/dist-packages (from tensorflow<2,>=1.12.0->tf-encrypted>=0.5.4->syft) (0.7.1)\n",
            "Requirement already satisfied: gast>=0.2.0 in /usr/local/lib/python3.6/dist-packages (from tensorflow<2,>=1.12.0->tf-encrypted>=0.5.4->syft) (0.2.2)\n",
            "Requirement already satisfied: astor>=0.6.0 in /usr/local/lib/python3.6/dist-packages (from tensorflow<2,>=1.12.0->tf-encrypted>=0.5.4->syft) (0.8.0)\n",
            "Requirement already satisfied: wrapt>=1.11.1 in /usr/local/lib/python3.6/dist-packages (from tensorflow<2,>=1.12.0->tf-encrypted>=0.5.4->syft) (1.11.2)\n",
            "Requirement already satisfied: wheel>=0.26 in /usr/local/lib/python3.6/dist-packages (from tensorflow<2,>=1.12.0->tf-encrypted>=0.5.4->syft) (0.33.4)\n",
            "Requirement already satisfied: olefile in /usr/local/lib/python3.6/dist-packages (from pillow>=4.1.1->torchvision>=0.3.0->syft) (0.46)\n",
            "Requirement already satisfied: MarkupSafe>=0.23 in /usr/local/lib/python3.6/dist-packages (from Jinja2>=2.10.1->Flask>=1.0.2->syft) (1.1.1)\n",
            "Requirement already satisfied: h5py in /usr/local/lib/python3.6/dist-packages (from keras-applications>=1.0.6->tensorflow<2,>=1.12.0->tf-encrypted>=0.5.4->syft) (2.8.0)\n",
            "Requirement already satisfied: setuptools>=41.0.0 in /usr/local/lib/python3.6/dist-packages (from tensorboard<1.15.0,>=1.14.0->tensorflow<2,>=1.12.0->tf-encrypted>=0.5.4->syft) (41.0.1)\n",
            "Requirement already satisfied: markdown>=2.6.8 in /usr/local/lib/python3.6/dist-packages (from tensorboard<1.15.0,>=1.14.0->tensorflow<2,>=1.12.0->tf-encrypted>=0.5.4->syft) (3.1.1)\n"
          ],
          "name": "stdout"
        }
      ]
    },
    {
      "cell_type": "code",
      "metadata": {
        "id": "V_0hskluwhdz",
        "colab_type": "code",
        "colab": {}
      },
      "source": [
        "###creating the toy dataset\n",
        "\n",
        "data = th.tensor([[1.,1], [0,1], [1, 0], [0,0]], requires_grad=True)\n",
        "target = th.tensor([[1.],[1], [0], [0]], requires_grad=True)"
      ],
      "execution_count": 0,
      "outputs": []
    },
    {
      "cell_type": "code",
      "metadata": {
        "id": "SI_TZVQ-xHDg",
        "colab_type": "code",
        "colab": {}
      },
      "source": [
        "model = nn.Linear(2,1) ##two features in (data), one feature out (target)"
      ],
      "execution_count": 0,
      "outputs": []
    },
    {
      "cell_type": "code",
      "metadata": {
        "id": "2hkmRWY-zK-Y",
        "colab_type": "code",
        "outputId": "c9cb5be2-b479-4b52-af39-b8424a92f77a",
        "colab": {
          "base_uri": "https://localhost:8080/",
          "height": 357
        }
      },
      "source": [
        "def train(iterations=20):\n",
        "  for iter in range(20):\n",
        "    opt = optim.SGD(params=model.parameters(), lr=0.1)\n",
        "    ### SGD means stochastic gradient descent, lr is the learning rate\n",
        "    opt.zero_grad()\n",
        "    ###making sure gradients are zero to start\n",
        "    pred = model(data)\n",
        "    loss = ((pred-target)**2).sum()\n",
        "    loss.backward() ##updating the weights in our gradients\n",
        "    opt.step()\n",
        "    print(loss.data)\n",
        "    \n",
        "train()"
      ],
      "execution_count": 0,
      "outputs": [
        {
          "output_type": "stream",
          "text": [
            "tensor(1.3331)\n",
            "tensor(0.8759)\n",
            "tensor(0.5817)\n",
            "tensor(0.3887)\n",
            "tensor(0.2613)\n",
            "tensor(0.1769)\n",
            "tensor(0.1206)\n",
            "tensor(0.0828)\n",
            "tensor(0.0573)\n",
            "tensor(0.0399)\n",
            "tensor(0.0281)\n",
            "tensor(0.0199)\n",
            "tensor(0.0142)\n",
            "tensor(0.0102)\n",
            "tensor(0.0074)\n",
            "tensor(0.0054)\n",
            "tensor(0.0040)\n",
            "tensor(0.0029)\n",
            "tensor(0.0022)\n",
            "tensor(0.0016)\n"
          ],
          "name": "stdout"
        }
      ]
    },
    {
      "cell_type": "code",
      "metadata": {
        "id": "tlCY50Ys3ih0",
        "colab_type": "code",
        "outputId": "0cc9bdfd-fac7-41d4-97b4-329489384cf1",
        "colab": {
          "base_uri": "https://localhost:8080/",
          "height": 34
        }
      },
      "source": [
        "hook = sy.TorchHook(th)"
      ],
      "execution_count": 0,
      "outputs": [
        {
          "output_type": "stream",
          "text": [
            "W0716 04:21:10.703423 140705261594496 hook.py:98] Torch was already hooked... skipping hooking process\n"
          ],
          "name": "stderr"
        }
      ]
    },
    {
      "cell_type": "code",
      "metadata": {
        "id": "uMMxyBgrz5W-",
        "colab_type": "code",
        "colab": {}
      },
      "source": [
        "###bringing in our two virtual machines or workers, bob and alice \n",
        "bob = sy.VirtualWorker(hook, id='bob')\n",
        "alice = sy.VirtualWorker(hook, id='alice')"
      ],
      "execution_count": 0,
      "outputs": []
    },
    {
      "cell_type": "code",
      "metadata": {
        "id": "0jjTi5Y30Gt7",
        "colab_type": "code",
        "colab": {}
      },
      "source": [
        "###sending our previously defined data to bob and alice\n",
        "data_bob = data[0:2].send(bob)\n",
        "target_bob = data[0:2].send(bob)\n",
        "data_alice = data[0:2].send(alice)\n",
        "target_alice = data[0:2].send(alice)"
      ],
      "execution_count": 0,
      "outputs": []
    },
    {
      "cell_type": "code",
      "metadata": {
        "id": "_M_Mzgi80Nun",
        "colab_type": "code",
        "colab": {}
      },
      "source": [
        "##Our whole data set is split evenly across bob and alice\n",
        "datasets = [(data_bob, target_bob), (data_alice, target_alice)]"
      ],
      "execution_count": 0,
      "outputs": []
    },
    {
      "cell_type": "code",
      "metadata": {
        "id": "hYkpIbjk0SzQ",
        "colab_type": "code",
        "colab": {}
      },
      "source": [
        "model = nn.Linear(2,1)\n",
        "opt = optim.SGD(params=model.parameters(), lr=0.1)"
      ],
      "execution_count": 0,
      "outputs": []
    },
    {
      "cell_type": "code",
      "metadata": {
        "id": "VpODDZFi1Zxf",
        "colab_type": "code",
        "colab": {}
      },
      "source": [
        "_data, _target = datasets[0]"
      ],
      "execution_count": 0,
      "outputs": []
    },
    {
      "cell_type": "code",
      "metadata": {
        "id": "LTq-q9QZ1ckh",
        "colab_type": "code",
        "outputId": "dcc39b77-591e-4a74-8458-fbc61da18dec",
        "colab": {
          "base_uri": "https://localhost:8080/",
          "height": 34
        }
      },
      "source": [
        "_data\n",
        "## returns my id and bob's id"
      ],
      "execution_count": 0,
      "outputs": [
        {
          "output_type": "execute_result",
          "data": {
            "text/plain": [
              "(Wrapper)>[PointerTensor | me:35295272140 -> bob:5507095491]"
            ]
          },
          "metadata": {
            "tags": []
          },
          "execution_count": 28
        }
      ]
    },
    {
      "cell_type": "code",
      "metadata": {
        "id": "tWLAePwp5Eda",
        "colab_type": "code",
        "outputId": "fa373654-dd52-493f-cb6e-7afd9449eadc",
        "colab": {
          "base_uri": "https://localhost:8080/",
          "height": 34
        }
      },
      "source": [
        "_data.location"
      ],
      "execution_count": 0,
      "outputs": [
        {
          "output_type": "execute_result",
          "data": {
            "text/plain": [
              "<VirtualWorker id:bob #objects:6>"
            ]
          },
          "metadata": {
            "tags": []
          },
          "execution_count": 29
        }
      ]
    },
    {
      "cell_type": "code",
      "metadata": {
        "id": "AjrjiBBu1hMA",
        "colab_type": "code",
        "colab": {}
      },
      "source": [
        "model = model.send(_data.location)\n",
        "##sending the model to the data where it's located on bob"
      ],
      "execution_count": 0,
      "outputs": []
    },
    {
      "cell_type": "code",
      "metadata": {
        "id": "OSCnZ_y65XMq",
        "colab_type": "code",
        "outputId": "bcc58e7b-9df5-4ebf-f438-3dabaf9559b3",
        "colab": {
          "base_uri": "https://localhost:8080/",
          "height": 85
        }
      },
      "source": [
        "list(model.parameters())"
      ],
      "execution_count": 0,
      "outputs": [
        {
          "output_type": "execute_result",
          "data": {
            "text/plain": [
              "[Parameter containing:\n",
              " Parameter>[PointerTensor | me:92446118489 -> bob:17904156271],\n",
              " Parameter containing:\n",
              " Parameter>[PointerTensor | me:78030646172 -> bob:31841827102]]"
            ]
          },
          "metadata": {
            "tags": []
          },
          "execution_count": 31
        }
      ]
    },
    {
      "cell_type": "code",
      "metadata": {
        "id": "J1RqfjXE5ZQR",
        "colab_type": "code",
        "colab": {}
      },
      "source": [
        "def train(iterations=20):\n",
        "  \n",
        "  model = nn.Linear(2,1)\n",
        "  opt = optim.SGD(params=model.parameters(), lr=0.1) \n",
        "  \n",
        "  for iter in range(iterations):\n",
        "    \n",
        "    for _data, _target in datasets:\n",
        "      ##sending out model to where the data is (on bob)\n",
        "      model = model.send(_data.location)\n",
        "\n",
        "      opt.zero_grad()\n",
        "      pred = model(_data)\n",
        "      loss = ((pred - _target)**2).sum()\n",
        "      loss.backward()\n",
        "      opt.step()\n",
        "\n",
        "      ##calling the smarter model that trained on bob back to the handle model\n",
        "      model = model.get()\n",
        "      \n",
        "      print(loss.get())"
      ],
      "execution_count": 0,
      "outputs": []
    },
    {
      "cell_type": "code",
      "metadata": {
        "id": "GyknKfnc5mV1",
        "colab_type": "code",
        "outputId": "77418c4e-72a7-4062-e7ba-01add0964999",
        "colab": {
          "base_uri": "https://localhost:8080/",
          "height": 697
        }
      },
      "source": [
        "train()"
      ],
      "execution_count": 0,
      "outputs": [
        {
          "output_type": "stream",
          "text": [
            "tensor(4.4111, requires_grad=True)\n",
            "tensor(3.1595, requires_grad=True)\n",
            "tensor(2.3085, requires_grad=True)\n",
            "tensor(1.7298, requires_grad=True)\n",
            "tensor(1.3362, requires_grad=True)\n",
            "tensor(1.0686, requires_grad=True)\n",
            "tensor(0.8867, requires_grad=True)\n",
            "tensor(0.7629, requires_grad=True)\n",
            "tensor(0.6788, requires_grad=True)\n",
            "tensor(0.6216, requires_grad=True)\n",
            "tensor(0.5827, requires_grad=True)\n",
            "tensor(0.5562, requires_grad=True)\n",
            "tensor(0.5382, requires_grad=True)\n",
            "tensor(0.5260, requires_grad=True)\n",
            "tensor(0.5177, requires_grad=True)\n",
            "tensor(0.5120, requires_grad=True)\n",
            "tensor(0.5082, requires_grad=True)\n",
            "tensor(0.5056, requires_grad=True)\n",
            "tensor(0.5038, requires_grad=True)\n",
            "tensor(0.5026, requires_grad=True)\n",
            "tensor(0.5017, requires_grad=True)\n",
            "tensor(0.5012, requires_grad=True)\n",
            "tensor(0.5008, requires_grad=True)\n",
            "tensor(0.5005, requires_grad=True)\n",
            "tensor(0.5004, requires_grad=True)\n",
            "tensor(0.5003, requires_grad=True)\n",
            "tensor(0.5002, requires_grad=True)\n",
            "tensor(0.5001, requires_grad=True)\n",
            "tensor(0.5001, requires_grad=True)\n",
            "tensor(0.5001, requires_grad=True)\n",
            "tensor(0.5000, requires_grad=True)\n",
            "tensor(0.5000, requires_grad=True)\n",
            "tensor(0.5000, requires_grad=True)\n",
            "tensor(0.5000, requires_grad=True)\n",
            "tensor(0.5000, requires_grad=True)\n",
            "tensor(0.5000, requires_grad=True)\n",
            "tensor(0.5000, requires_grad=True)\n",
            "tensor(0.5000, requires_grad=True)\n",
            "tensor(0.5000, requires_grad=True)\n",
            "tensor(0.5000, requires_grad=True)\n"
          ],
          "name": "stdout"
        }
      ]
    },
    {
      "cell_type": "code",
      "metadata": {
        "id": "LbMhSdzd5pFH",
        "colab_type": "code",
        "colab": {}
      },
      "source": [
        ""
      ],
      "execution_count": 0,
      "outputs": []
    },
    {
      "cell_type": "markdown",
      "metadata": {
        "id": "p16D_KR_CPR5",
        "colab_type": "text"
      },
      "source": [
        "So in this exersise, we build a simple model, sent it to where the data was, and updated the model with the results of training on the data on bob. In the example of training the text prediction on a mobile phone, thousands of virtual workers like bob and alice would send back their updated models, and a system update would be implemented on the average of the update. This is thought to be the safer, more private way of training and updating models on involving thousands or even hundreds of thousands of users. The idea is that instead of bringing user data to the model (on a central server somewhere), the average of updated models allows each user their privacy while also allowing models to be updated."
      ]
    },
    {
      "cell_type": "code",
      "metadata": {
        "id": "qKpS2YRJ5xIE",
        "colab_type": "code",
        "colab": {}
      },
      "source": [
        ""
      ],
      "execution_count": 0,
      "outputs": []
    }
  ]
}